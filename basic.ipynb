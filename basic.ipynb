{
 "cells": [
  {
   "cell_type": "code",
   "execution_count": null,
   "metadata": {},
   "outputs": [],
   "source": [
    "from sklearn import joblib\n",
    "\n",
    "nyobajl = joblib.load('model.sav')"
   ]
  },
  {
   "cell_type": "code",
   "execution_count": null,
   "metadata": {},
   "outputs": [],
   "source": [
    "luas_lantai = 1\n",
    "lantai_tanah = 1\n",
    "dinding_bambu = 1\n",
    "tidak_punya_mck = 1\n",
    "tidak_punya_listrik = 1\n",
    "air_minum_sumur = 1\n",
    "kayu_bakar = 1\n",
    "daging_satu_seminggu = 1\n",
    "satu_baju_setahun = 1\n",
    "makan_satu_dua_sehari = 1\n",
    "tidak_sanggup_berobat = 0\n",
    "penghasilan_dibawah_600 = 1\n",
    "kk_tidak_sekolah = 0\n",
    "tidak_punya_tabungan = 0\n",
    "lansia = 0\n",
    "disabilitas = 0\n",
    "usia_dini = 0\n",
    "ibu_hamil = 1 \n",
    "anak_sd = 0\n",
    "anak_smp = 1\n",
    "anak_sma = 0"
   ]
  },
  {
   "cell_type": "code",
   "execution_count": null,
   "metadata": {},
   "outputs": [],
   "source": [
    "data = [\n",
    "        luas_lantai,\n",
    "        lantai_tanah,\n",
    "        dinding_bambu,\n",
    "        tidak_punya_mck,\n",
    "        tidak_punya_listrik,\n",
    "        air_minum_sumur,\n",
    "        kayu_bakar,\n",
    "        daging_satu_seminggu,\n",
    "        satu_baju_setahun,\n",
    "        makan_satu_dua_sehari,\n",
    "        tidak_sanggup_berobat,\n",
    "        penghasilan_dibawah_600,\n",
    "        kk_tidak_sekolah,\n",
    "        tidak_punya_tabungan,\n",
    "        lansia,\n",
    "        disabilitas,\n",
    "        usia_dini,\n",
    "        ibu_hamil,\n",
    "        anak_sd,\n",
    "        anak_smp,\n",
    "        anak_sma,\n",
    "        ]"
   ]
  },
  {
   "cell_type": "code",
   "execution_count": null,
   "metadata": {},
   "outputs": [],
   "source": [
    "nyobajl.predict([data])"
   ]
  }
 ],
 "metadata": {
  "kernelspec": {
   "display_name": "Python 3.10.5 64-bit",
   "language": "python",
   "name": "python3"
  },
  "language_info": {
   "name": "python",
   "version": "3.10.5"
  },
  "orig_nbformat": 4,
  "vscode": {
   "interpreter": {
    "hash": "f2ccb58c476f33ba3e3aee7ac07234ef6b8217ef24ad64d2a7d4fed1a57c1cd2"
   }
  }
 },
 "nbformat": 4,
 "nbformat_minor": 2
}

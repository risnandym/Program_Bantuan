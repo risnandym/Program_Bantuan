{
 "cells": [
  {
   "cell_type": "code",
   "execution_count": 25,
   "metadata": {},
   "outputs": [
    {
     "name": "stderr",
     "output_type": "stream",
     "text": [
      "c:\\Users\\LENOVO\\AppData\\Local\\Programs\\Python\\Python310\\lib\\site-packages\\sklearn\\base.py:329: UserWarning: Trying to unpickle estimator DecisionTreeClassifier from version 1.0.2 when using version 1.1.1. This might lead to breaking code or invalid results. Use at your own risk. For more info please refer to:\n",
      "https://scikit-learn.org/stable/model_persistence.html#security-maintainability-limitations\n",
      "  warnings.warn(\n"
     ]
    }
   ],
   "source": [
    "import joblib\n",
    "from flask import Flask\n",
    "\n",
    "app = Flask(__name__)\n",
    "@app.route('/')\n",
    "\n",
    "def hello_world():\n",
    "\n",
    "    return 'Hello, World!'\n",
    "\n",
    "nyobajl = joblib.load('model.sav')"
   ]
  },
  {
   "cell_type": "code",
   "execution_count": 26,
   "metadata": {},
   "outputs": [],
   "source": [
    "luas_lantai = 1\n",
    "lantai_tanah = 1\n",
    "dinding_bambu = 1\n",
    "tidak_punya_mck = 1\n",
    "tidak_punya_listrik = 1\n",
    "air_minum_sumur = 1\n",
    "kayu_bakar = 0\n",
    "daging_satu_seminggu = 0\n",
    "satu_baju_setahun = 0\n",
    "makan_satu_dua_sehari = 0\n",
    "tidak_sanggup_berobat = 0\n",
    "penghasilan_dibawah_600 = 0\n",
    "kk_tidak_sekolah = 0\n",
    "tidak_punya_tabungan = 0\n",
    "lansia = 0\n",
    "disabilitas = 0\n",
    "usia_dini = 0\n",
    "ibu_hamil = 0\n",
    "anak_sd = 0\n",
    "anak_smp = 0\n",
    "anak_sma = 0"
   ]
  },
  {
   "cell_type": "code",
   "execution_count": 27,
   "metadata": {},
   "outputs": [],
   "source": [
    "data = [\n",
    "        luas_lantai,\n",
    "        lantai_tanah,\n",
    "        dinding_bambu,\n",
    "        tidak_punya_mck,\n",
    "        tidak_punya_listrik,\n",
    "        air_minum_sumur,\n",
    "        kayu_bakar,\n",
    "        daging_satu_seminggu,\n",
    "        satu_baju_setahun,\n",
    "        makan_satu_dua_sehari,\n",
    "        tidak_sanggup_berobat,\n",
    "        penghasilan_dibawah_600,\n",
    "        kk_tidak_sekolah,\n",
    "        tidak_punya_tabungan,\n",
    "        lansia,\n",
    "        disabilitas,\n",
    "        usia_dini,\n",
    "        ibu_hamil,\n",
    "        anak_sd,\n",
    "        anak_smp,\n",
    "        anak_sma,\n",
    "        ]"
   ]
  },
  {
   "cell_type": "code",
   "execution_count": 28,
   "metadata": {},
   "outputs": [
    {
     "name": "stderr",
     "output_type": "stream",
     "text": [
      "c:\\Users\\LENOVO\\AppData\\Local\\Programs\\Python\\Python310\\lib\\site-packages\\sklearn\\base.py:450: UserWarning: X does not have valid feature names, but DecisionTreeClassifier was fitted with feature names\n",
      "  warnings.warn(\n"
     ]
    },
    {
     "data": {
      "text/plain": [
       "array(['BLT'], dtype=object)"
      ]
     },
     "execution_count": 28,
     "metadata": {},
     "output_type": "execute_result"
    }
   ],
   "source": [
    "nyobajl.predict([data])"
   ]
  }
 ],
 "metadata": {
  "kernelspec": {
   "display_name": "Python 3.10.5 64-bit",
   "language": "python",
   "name": "python3"
  },
  "language_info": {
   "codemirror_mode": {
    "name": "ipython",
    "version": 3
   },
   "file_extension": ".py",
   "mimetype": "text/x-python",
   "name": "python",
   "nbconvert_exporter": "python",
   "pygments_lexer": "ipython3",
   "version": "3.10.5"
  },
  "orig_nbformat": 4,
  "vscode": {
   "interpreter": {
    "hash": "f2ccb58c476f33ba3e3aee7ac07234ef6b8217ef24ad64d2a7d4fed1a57c1cd2"
   }
  }
 },
 "nbformat": 4,
 "nbformat_minor": 2
}
